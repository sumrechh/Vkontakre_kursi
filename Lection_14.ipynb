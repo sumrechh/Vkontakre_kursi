{
 "cells": [
  {
   "cell_type": "code",
   "execution_count": 2,
   "id": "47f190a2-b86a-444d-b873-40a9d24dbf63",
   "metadata": {},
   "outputs": [],
   "source": [
    "import seaborn as sns\n",
    "import matplotlib.pyplot as plt\n",
    "import pandas as pd\n",
    "import numpy as np\n",
    "from scipy import stats\n",
    "\n",
    "np.random.seed(1234)"
   ]
  },
  {
   "cell_type": "code",
   "execution_count": 12,
   "id": "c5cfc27e-04e0-427f-b594-0a5eb151e659",
   "metadata": {},
   "outputs": [
    {
     "data": {
      "image/png": "[encoded data removed]",
      "text/plain": [
       "<Figure size 1400x700 with 1 Axes>"
      ]
     },
     "metadata": {},
     "output_type": "display_data"
    }
   ],
   "source": [
    "distrib = stats.norm(loc=35, scale= 10)\n",
    "gen_pop = distrib.rvs(size=10000)\n",
    "\n",
    "fig = plt.figure(figsize=(14,7))\n",
    "ax1 = plt.subplot(111)\n",
    "plt.hist(gen_pop, 100)\n",
    "plt.show()"
   ]
  },
  {
   "cell_type": "code",
   "execution_count": 104,
   "id": "de18e018-3289-4391-be8b-54f6a3dc484e",
   "metadata": {},
   "outputs": [
    {
     "data": {
      "text/plain": [
       "array([[29,  5, 35, 30, 37, 27, 32, 33, 48, 31, 33, 29, 65, 25, 42, 29,\n",
       "        32, 35, 21, 51, 25, 41, 27, 34, 42, 50, 37, 43, 32, 44, 24, 26,\n",
       "        23, 32, 19, 41, 29, 30, 28, 38, 32, 21, 32, 47, 37, 44, 22, 34,\n",
       "        36, 48],\n",
       "       [34, 46, 36, 26, 43, 51, 22, 30,  1, 56, 30, 25, 43, 49, 37, 41,\n",
       "        46, 25, 42, 41, 36, 44, 28, 24, 25, 21, 49, 14, 35, 36, 29, 20,\n",
       "        25, 24, 39, 14, 37,  7, 50, 35, 41, 29, 36, 12, 37, 37, 28, 41,\n",
       "        50, 22],\n",
       "       [46, 46, 41, 37, 37, 19, 16, 49, 41, 21, 32, 35, 38, 43, 22, 34,\n",
       "        53, 37, 32, 30, 29, 45, 32, 28, 34, 44, 48, 22, 42, 46, 48, 39,\n",
       "        41, 39, 61, 46, 51, 32, 45, 44, 41, 37, 46, 37, 47, 39, 40, 30,\n",
       "        30, 25]])"
      ]
     },
     "execution_count": 104,
     "metadata": {},
     "output_type": "execute_result"
    }
   ],
   "source": [
    "np.random.seed(3106)\n",
    "sample_groups = []\n",
    "for i in range(3):\n",
    "    sample_groups.append(np.random.choice(gen_pop, size=50).astype(int))\n",
    "sample_groups = np.array(sample_groups)\n",
    "sample_groups"
   ]
  },
  {
   "cell_type": "raw",
   "id": "7080ce72-65d9-485f-b971-133b65f6f126",
   "metadata": {},
   "source": [
    "Рассчитаем:\n",
    "-Среднее каждой выборки и стандартное отклонение (синие линии)\n",
    "-Среднее средних и стандартное отклонение средних"
   ]
  },
  {
   "cell_type": "raw",
   "id": "2c362d8d-444a-42e8-8f61-1af6ce1a6bb2",
   "metadata": {},
   "source": [
    "x = np.mean(sample_groups,axis=1)\n",
    "y = np.arange(sample_groups.shape[0])\n",
    "e = np.std(sample_groups,axis=1)\n",
    "\n",
    "fig = plt.figure(figsize=(14,7))\n",
    "plt.errorbar(x,y, xerr=e, marker='o', linestyle='None')\n",
    "plt.errorbar(np.mean(x), y.shape[0], xerr = np.std(x), linestyle='None', marker='o')"
   ]
  },
  {
   "cell_type": "raw",
   "id": "93a926dc-6b64-4264-9008-c9ce83b80ecf",
   "metadata": {},
   "source": [
    "1) формулируются гипотезы H0 и H1\n",
    "H0: выборки взяты из одного распределения (значит средние всех выборов равны)\n",
    "H1: выборки взяты из разных распределений (хотя бы одна пара средних различается между собой)\n",
    "\n",
    "2) фиксируется уровень значимости критерия значимости\n",
    "Пускай альфа будет на урофне 5%\n",
    "\n",
    "3)Выбирается статистический критерий для проверки гипотезы\n",
    "Будем использовать ANOVA.\n",
    "\n",
    "4) по выборочным данным вычисляется значение K-наблюдаемого по распределению выбранной статистики"
   ]
  },
  {
   "cell_type": "code",
   "execution_count": 147,
   "id": "8b76631a-6d73-4b0c-b87b-01f5e0b4ae21",
   "metadata": {},
   "outputs": [
    {
     "data": {
      "text/plain": [
       "3"
      ]
     },
     "execution_count": 147,
     "metadata": {},
     "output_type": "execute_result"
    }
   ],
   "source": [
    "num_of_groups = sample_groups.shape[0]"
   ]
  },
  {
   "cell_type": "code",
   "execution_count": 151,
   "id": "f3fc40f6-27ab-4683-a320-cea7d8a17187",
   "metadata": {},
   "outputs": [
    {
     "data": {
      "text/plain": [
       "34.88666666666666"
      ]
     },
     "execution_count": 151,
     "metadata": {},
     "output_type": "execute_result"
    }
   ],
   "source": [
    "#Среднее по всем наблюдениям\n",
    "X_mean = sample_groups.mean()\n",
    "X_mean"
   ]
  },
  {
   "cell_type": "code",
   "execution_count": 155,
   "id": "42be8be8-7426-42e8-bb29-078ba7e393c0",
   "metadata": {},
   "outputs": [
    {
     "data": {
      "text/plain": [
       "array([[33.74],\n",
       "       [32.98],\n",
       "       [37.94]])"
      ]
     },
     "execution_count": 155,
     "metadata": {},
     "output_type": "execute_result"
    }
   ],
   "source": [
    "#Среднее для каждой группы\n",
    "group_means = sample_groups.mean(axis=1)\n",
    "group_means_reshaped = group_means.reshape(num_of_groups, 1)\n",
    "group_means_reshaped"
   ]
  },
  {
   "cell_type": "code",
   "execution_count": 157,
   "id": "833ee979-e065-4a58-aec3-495a50557fa1",
   "metadata": {},
   "outputs": [
    {
     "data": {
      "text/plain": [
       "16261.42"
      ]
     },
     "execution_count": 157,
     "metadata": {},
     "output_type": "execute_result"
    }
   ],
   "source": [
    "#SSW (Сумма стандартных отклонений)\n",
    "SSW = np.sum((sample_groups - group_means_reshaped) ** 2)\n",
    "SSW"
   ]
  },
  {
   "cell_type": "code",
   "execution_count": 169,
   "id": "72d80aaf-5fd9-4a6c-8893-189ed2bfd831",
   "metadata": {},
   "outputs": [
    {
     "data": {
      "text/plain": [
       "713.6533333333331"
      ]
     },
     "execution_count": 169,
     "metadata": {},
     "output_type": "execute_result"
    }
   ],
   "source": [
    "#SSB (Сумма отклонения средних)\n",
    "group_lengths = [x.shape[0] for x in sample_groups] #[50,50,50]\n",
    "\n",
    "SSB = np.sum((group_means - X_mean) ** 2 * group_lengths)\n",
    "SSB"
   ]
  },
  {
   "cell_type": "code",
   "execution_count": null,
   "id": "83eb45bb-b694-45b7-bc34-114abe97c3cf",
   "metadata": {},
   "outputs": [],
   "source": []
  }
 ],
 "metadata": {
  "kernelspec": {
   "display_name": "Python 3 (ipykernel)",
   "language": "python",
   "name": "python3"
  },
  "language_info": {
   "codemirror_mode": {
    "name": "ipython",
    "version": 3
   },
   "file_extension": ".py",
   "mimetype": "text/x-python",
   "name": "python",
   "nbconvert_exporter": "python",
   "pygments_lexer": "ipython3",
   "version": "3.12.7"
  }
 },
 "nbformat": 4,
 "nbformat_minor": 5
}
